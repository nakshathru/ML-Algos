{
 "cells": [
  {
   "cell_type": "markdown",
   "source": [
    "*Random* forest classifier using scikit-learn\n"
   ],
   "metadata": {
    "id": "RQEiepHAZWWf"
   }
  },
  {
   "cell_type": "markdown",
   "source": [
    "Import modules"
   ],
   "metadata": {
    "id": "mmNVxQDba5j8"
   }
  },
  {
   "cell_type": "code",
   "execution_count": 3,
   "source": [
    "import pandas as pd\n",
    "import numpy as np\n",
    "import matplotlib.pyplot as plt\n",
    "import seaborn as sns\n",
    "from sklearn.feature_extraction.text import TfidfVectorizer\n",
    "from sklearn import preprocessing, metrics\n",
    "from sklearn.ensemble import RandomForestClassifier\n",
    "from sklearn.metrics import confusion_matrix\n",
    "from sklearn.model_selection import train_test_split"
   ],
   "outputs": [],
   "metadata": {
    "id": "TEJOI166a64I",
    "tags": []
   }
  },
  {
   "cell_type": "markdown",
   "source": [
    "Loading dataset\n"
   ],
   "metadata": {
    "id": "dW9RIAnFZtlV"
   }
  },
  {
   "cell_type": "code",
   "execution_count": 4,
   "source": [
    "df = pd.read_json('dataset/complaints.json.zip', dtype=str)"
   ],
   "outputs": [],
   "metadata": {
    "colab": {
     "base_uri": "https://localhost:8080/",
     "height": 76,
     "resources": {
      "http://localhost:8080/nbextensions/google.colab/files.js": {
       "data": "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",
       "headers": [
        [
         "content-type",
         "application/javascript"
        ]
       ],
       "ok": true,
       "status": 200,
       "status_text": "OK"
      }
     }
    },
    "id": "IKeXdEaDZTGN",
    "outputId": "0270109c-ea9b-40c8-f6a3-3318cba1c813"
   }
  },
  {
   "cell_type": "code",
   "execution_count": 5,
   "source": [
    "df.head()"
   ],
   "outputs": [
    {
     "output_type": "execute_result",
     "data": {
      "text/html": [
       "<div>\n",
       "<style scoped>\n",
       "    .dataframe tbody tr th:only-of-type {\n",
       "        vertical-align: middle;\n",
       "    }\n",
       "\n",
       "    .dataframe tbody tr th {\n",
       "        vertical-align: top;\n",
       "    }\n",
       "\n",
       "    .dataframe thead th {\n",
       "        text-align: right;\n",
       "    }\n",
       "</style>\n",
       "<table border=\"1\" class=\"dataframe\">\n",
       "  <thead>\n",
       "    <tr style=\"text-align: right;\">\n",
       "      <th></th>\n",
       "      <th>date_received</th>\n",
       "      <th>product</th>\n",
       "      <th>sub_product</th>\n",
       "      <th>issue</th>\n",
       "      <th>sub_issue</th>\n",
       "      <th>complaint_what_happened</th>\n",
       "      <th>company_public_response</th>\n",
       "      <th>company</th>\n",
       "      <th>state</th>\n",
       "      <th>zip_code</th>\n",
       "      <th>tags</th>\n",
       "      <th>consumer_consent_provided</th>\n",
       "      <th>submitted_via</th>\n",
       "      <th>date_sent_to_company</th>\n",
       "      <th>company_response</th>\n",
       "      <th>timely</th>\n",
       "      <th>consumer_disputed</th>\n",
       "      <th>complaint_id</th>\n",
       "    </tr>\n",
       "  </thead>\n",
       "  <tbody>\n",
       "    <tr>\n",
       "      <th>0</th>\n",
       "      <td>2019-06-13</td>\n",
       "      <td>Credit reporting, credit repair services, or o...</td>\n",
       "      <td>Credit reporting</td>\n",
       "      <td>Incorrect information on your report</td>\n",
       "      <td>Information belongs to someone else</td>\n",
       "      <td></td>\n",
       "      <td></td>\n",
       "      <td>CAPITAL ONE FINANCIAL CORPORATION</td>\n",
       "      <td>PA</td>\n",
       "      <td>186XX</td>\n",
       "      <td></td>\n",
       "      <td>Consent not provided</td>\n",
       "      <td>Web</td>\n",
       "      <td>2019-06-13</td>\n",
       "      <td>Closed with explanation</td>\n",
       "      <td>Yes</td>\n",
       "      <td>N/A</td>\n",
       "      <td>3274605</td>\n",
       "    </tr>\n",
       "    <tr>\n",
       "      <th>1</th>\n",
       "      <td>2019-11-01</td>\n",
       "      <td>Vehicle loan or lease</td>\n",
       "      <td>Loan</td>\n",
       "      <td>Struggling to pay your loan</td>\n",
       "      <td>Denied request to lower payments</td>\n",
       "      <td>I contacted Ally on Friday XX/XX/XXXX after fa...</td>\n",
       "      <td>Company has responded to the consumer and the ...</td>\n",
       "      <td>ALLY FINANCIAL INC.</td>\n",
       "      <td>NJ</td>\n",
       "      <td>088XX</td>\n",
       "      <td></td>\n",
       "      <td>Consent provided</td>\n",
       "      <td>Web</td>\n",
       "      <td>2019-11-01</td>\n",
       "      <td>Closed with explanation</td>\n",
       "      <td>Yes</td>\n",
       "      <td>N/A</td>\n",
       "      <td>3425257</td>\n",
       "    </tr>\n",
       "    <tr>\n",
       "      <th>2</th>\n",
       "      <td>2019-04-01</td>\n",
       "      <td>Credit reporting, credit repair services, or o...</td>\n",
       "      <td>Credit reporting</td>\n",
       "      <td>Incorrect information on your report</td>\n",
       "      <td>Account status incorrect</td>\n",
       "      <td></td>\n",
       "      <td>Company has responded to the consumer and the ...</td>\n",
       "      <td>TRANSUNION INTERMEDIATE HOLDINGS, INC.</td>\n",
       "      <td>PA</td>\n",
       "      <td>19067</td>\n",
       "      <td></td>\n",
       "      <td>Consent not provided</td>\n",
       "      <td>Web</td>\n",
       "      <td>2019-04-01</td>\n",
       "      <td>Closed with explanation</td>\n",
       "      <td>Yes</td>\n",
       "      <td>N/A</td>\n",
       "      <td>3198225</td>\n",
       "    </tr>\n",
       "    <tr>\n",
       "      <th>3</th>\n",
       "      <td>2019-07-18</td>\n",
       "      <td>Credit reporting, credit repair services, or o...</td>\n",
       "      <td>Credit repair services</td>\n",
       "      <td>Unexpected or other fees</td>\n",
       "      <td></td>\n",
       "      <td>In XXXX I retained Freedom Debt Relief to help...</td>\n",
       "      <td></td>\n",
       "      <td>FREEDOM FINANCIAL NETWORK</td>\n",
       "      <td>OH</td>\n",
       "      <td>440XX</td>\n",
       "      <td></td>\n",
       "      <td>Consent provided</td>\n",
       "      <td>Web</td>\n",
       "      <td>2019-07-22</td>\n",
       "      <td>Closed with monetary relief</td>\n",
       "      <td>Yes</td>\n",
       "      <td>N/A</td>\n",
       "      <td>3310591</td>\n",
       "    </tr>\n",
       "    <tr>\n",
       "      <th>4</th>\n",
       "      <td>2019-08-08</td>\n",
       "      <td>Mortgage</td>\n",
       "      <td>Conventional home mortgage</td>\n",
       "      <td>Trouble during payment process</td>\n",
       "      <td></td>\n",
       "      <td></td>\n",
       "      <td>Company has responded to the consumer and the ...</td>\n",
       "      <td>FLAGSTAR BANK, FSB</td>\n",
       "      <td>ID</td>\n",
       "      <td>83706</td>\n",
       "      <td></td>\n",
       "      <td>N/A</td>\n",
       "      <td>Referral</td>\n",
       "      <td>2019-08-15</td>\n",
       "      <td>Closed with explanation</td>\n",
       "      <td>Yes</td>\n",
       "      <td>N/A</td>\n",
       "      <td>3342290</td>\n",
       "    </tr>\n",
       "  </tbody>\n",
       "</table>\n",
       "</div>"
      ],
      "text/plain": [
       "  date_received                                            product  \\\n",
       "0    2019-06-13  Credit reporting, credit repair services, or o...   \n",
       "1    2019-11-01                              Vehicle loan or lease   \n",
       "2    2019-04-01  Credit reporting, credit repair services, or o...   \n",
       "3    2019-07-18  Credit reporting, credit repair services, or o...   \n",
       "4    2019-08-08                                           Mortgage   \n",
       "\n",
       "                  sub_product                                 issue  \\\n",
       "0            Credit reporting  Incorrect information on your report   \n",
       "1                        Loan           Struggling to pay your loan   \n",
       "2            Credit reporting  Incorrect information on your report   \n",
       "3      Credit repair services              Unexpected or other fees   \n",
       "4  Conventional home mortgage        Trouble during payment process   \n",
       "\n",
       "                             sub_issue  \\\n",
       "0  Information belongs to someone else   \n",
       "1     Denied request to lower payments   \n",
       "2             Account status incorrect   \n",
       "3                                        \n",
       "4                                        \n",
       "\n",
       "                             complaint_what_happened  \\\n",
       "0                                                      \n",
       "1  I contacted Ally on Friday XX/XX/XXXX after fa...   \n",
       "2                                                      \n",
       "3  In XXXX I retained Freedom Debt Relief to help...   \n",
       "4                                                      \n",
       "\n",
       "                             company_public_response  \\\n",
       "0                                                      \n",
       "1  Company has responded to the consumer and the ...   \n",
       "2  Company has responded to the consumer and the ...   \n",
       "3                                                      \n",
       "4  Company has responded to the consumer and the ...   \n",
       "\n",
       "                                  company state zip_code tags  \\\n",
       "0       CAPITAL ONE FINANCIAL CORPORATION    PA    186XX        \n",
       "1                     ALLY FINANCIAL INC.    NJ    088XX        \n",
       "2  TRANSUNION INTERMEDIATE HOLDINGS, INC.    PA    19067        \n",
       "3               FREEDOM FINANCIAL NETWORK    OH    440XX        \n",
       "4                      FLAGSTAR BANK, FSB    ID    83706        \n",
       "\n",
       "  consumer_consent_provided submitted_via date_sent_to_company  \\\n",
       "0      Consent not provided           Web           2019-06-13   \n",
       "1          Consent provided           Web           2019-11-01   \n",
       "2      Consent not provided           Web           2019-04-01   \n",
       "3          Consent provided           Web           2019-07-22   \n",
       "4                       N/A      Referral           2019-08-15   \n",
       "\n",
       "              company_response timely consumer_disputed complaint_id  \n",
       "0      Closed with explanation    Yes               N/A      3274605  \n",
       "1      Closed with explanation    Yes               N/A      3425257  \n",
       "2      Closed with explanation    Yes               N/A      3198225  \n",
       "3  Closed with monetary relief    Yes               N/A      3310591  \n",
       "4      Closed with explanation    Yes               N/A      3342290  "
      ]
     },
     "metadata": {},
     "execution_count": 5
    }
   ],
   "metadata": {}
  },
  {
   "cell_type": "markdown",
   "source": [
    "Select dataset columns"
   ],
   "metadata": {}
  },
  {
   "cell_type": "code",
   "execution_count": 6,
   "source": [
    "df['complaint_what_happened'].replace('', np.nan, inplace=True)\n",
    "df.dropna(subset=['complaint_what_happened'], inplace=True)\n",
    "# df = df.head(4096)"
   ],
   "outputs": [],
   "metadata": {}
  },
  {
   "cell_type": "code",
   "execution_count": 7,
   "source": [
    "df.shape"
   ],
   "outputs": [
    {
     "output_type": "execute_result",
     "data": {
      "text/plain": [
       "(788820, 18)"
      ]
     },
     "metadata": {},
     "execution_count": 7
    }
   ],
   "metadata": {}
  },
  {
   "cell_type": "code",
   "execution_count": 8,
   "source": [
    "df.isnull().sum()"
   ],
   "outputs": [
    {
     "output_type": "execute_result",
     "data": {
      "text/plain": [
       "date_received                0\n",
       "product                      0\n",
       "sub_product                  0\n",
       "issue                        0\n",
       "sub_issue                    0\n",
       "complaint_what_happened      0\n",
       "company_public_response      0\n",
       "company                      0\n",
       "state                        0\n",
       "zip_code                     0\n",
       "tags                         0\n",
       "consumer_consent_provided    0\n",
       "submitted_via                0\n",
       "date_sent_to_company         0\n",
       "company_response             0\n",
       "timely                       0\n",
       "consumer_disputed            0\n",
       "complaint_id                 0\n",
       "dtype: int64"
      ]
     },
     "metadata": {},
     "execution_count": 8
    }
   ],
   "metadata": {}
  },
  {
   "cell_type": "code",
   "execution_count": 9,
   "source": [
    "df = df[['company_response', 'complaint_what_happened','company_public_response']]"
   ],
   "outputs": [],
   "metadata": {}
  },
  {
   "cell_type": "code",
   "execution_count": 10,
   "source": [
    "df.isnull().sum()"
   ],
   "outputs": [
    {
     "output_type": "execute_result",
     "data": {
      "text/plain": [
       "company_response           0\n",
       "complaint_what_happened    0\n",
       "company_public_response    0\n",
       "dtype: int64"
      ]
     },
     "metadata": {},
     "execution_count": 10
    }
   ],
   "metadata": {}
  },
  {
   "cell_type": "code",
   "execution_count": 11,
   "source": [
    "df['company_response'].value_counts()"
   ],
   "outputs": [
    {
     "output_type": "execute_result",
     "data": {
      "text/plain": [
       "Closed with explanation            659938\n",
       "Closed with non-monetary relief     83310\n",
       "Closed with monetary relief         37504\n",
       "Untimely response                    4215\n",
       "Closed                               3741\n",
       "In progress                           111\n",
       "                                        1\n",
       "Name: company_response, dtype: int64"
      ]
     },
     "metadata": {},
     "execution_count": 11
    }
   ],
   "metadata": {}
  },
  {
   "cell_type": "code",
   "execution_count": 12,
   "source": [
    "df['company_public_response'].value_counts()"
   ],
   "outputs": [
    {
     "output_type": "execute_result",
     "data": {
      "text/plain": [
       "                                                                                                                           403597\n",
       "Company has responded to the consumer and the CFPB and chooses not to provide a public response                            301038\n",
       "Company believes it acted appropriately as authorized by contract or law                                                    45601\n",
       "Company chooses not to provide a public response                                                                            19818\n",
       "Company believes the complaint is the result of a misunderstanding                                                           4573\n",
       "Company disputes the facts presented in the complaint                                                                        4210\n",
       "Company believes complaint is the result of an isolated error                                                                2792\n",
       "Company believes complaint caused principally by actions of third party outside the control or direction of the company      2738\n",
       "Company believes complaint represents an opportunity for improvement to better serve consumers                               2121\n",
       "Company can't verify or dispute the facts in the complaint                                                                   1539\n",
       "Company believes the complaint provided an opportunity to answer consumer's questions                                         743\n",
       "Company believes complaint relates to a discontinued policy or procedure                                                       50\n",
       "Name: company_public_response, dtype: int64"
      ]
     },
     "metadata": {},
     "execution_count": 12
    }
   ],
   "metadata": {}
  },
  {
   "cell_type": "code",
   "execution_count": 13,
   "source": [
    "actions={'Company has responded to the consumer and the CFPB and chooses not to provide a public response':'Dispute',\n",
    "         'Company believes it acted appropriately as authorized by contract or law':'Dispute',\n",
    "         'Company chooses not to provide a public response':'Dispute',\n",
    "          'Company believes the complaint is the result of a misunderstanding':'Agrees',\n",
    "         'Company disputes the facts presented in the complaint':'Dispute',\n",
    "          'Company believes complaint is the result of an isolated error':'Agrees',\n",
    "          'Company believes complaint caused principally by actions of third party outside the control or direction of the company':'Dispute',\n",
    "          'Company believes complaint represents an opportunity for improvement to better serve consumers':'Agrees',\n",
    "          \"Company can't verify or dispute the facts in the complaint\":'Less informative',\n",
    "          \"Company believes the complaint provided an opportunity to answer consumer's questions\":'Agrees',\n",
    "          'Company believes complaint relates to a discontinued policy or procedure':'Dispute',\n",
    "         }"
   ],
   "outputs": [],
   "metadata": {}
  },
  {
   "cell_type": "code",
   "execution_count": 14,
   "source": [
    "df['actions']=df['company_public_response'].map(actions)"
   ],
   "outputs": [],
   "metadata": {}
  },
  {
   "cell_type": "code",
   "execution_count": 15,
   "source": [
    "df.head()"
   ],
   "outputs": [
    {
     "output_type": "execute_result",
     "data": {
      "text/html": [
       "<div>\n",
       "<style scoped>\n",
       "    .dataframe tbody tr th:only-of-type {\n",
       "        vertical-align: middle;\n",
       "    }\n",
       "\n",
       "    .dataframe tbody tr th {\n",
       "        vertical-align: top;\n",
       "    }\n",
       "\n",
       "    .dataframe thead th {\n",
       "        text-align: right;\n",
       "    }\n",
       "</style>\n",
       "<table border=\"1\" class=\"dataframe\">\n",
       "  <thead>\n",
       "    <tr style=\"text-align: right;\">\n",
       "      <th></th>\n",
       "      <th>company_response</th>\n",
       "      <th>complaint_what_happened</th>\n",
       "      <th>company_public_response</th>\n",
       "      <th>actions</th>\n",
       "    </tr>\n",
       "  </thead>\n",
       "  <tbody>\n",
       "    <tr>\n",
       "      <th>1</th>\n",
       "      <td>Closed with explanation</td>\n",
       "      <td>I contacted Ally on Friday XX/XX/XXXX after fa...</td>\n",
       "      <td>Company has responded to the consumer and the ...</td>\n",
       "      <td>Dispute</td>\n",
       "    </tr>\n",
       "    <tr>\n",
       "      <th>3</th>\n",
       "      <td>Closed with monetary relief</td>\n",
       "      <td>In XXXX I retained Freedom Debt Relief to help...</td>\n",
       "      <td></td>\n",
       "      <td>NaN</td>\n",
       "    </tr>\n",
       "    <tr>\n",
       "      <th>5</th>\n",
       "      <td>Closed with explanation</td>\n",
       "      <td>Hello This complaint is against the three cred...</td>\n",
       "      <td>Company has responded to the consumer and the ...</td>\n",
       "      <td>Dispute</td>\n",
       "    </tr>\n",
       "    <tr>\n",
       "      <th>6</th>\n",
       "      <td>Closed with explanation</td>\n",
       "      <td>I am a victim of Identity Theft &amp; currently ha...</td>\n",
       "      <td>Company has responded to the consumer and the ...</td>\n",
       "      <td>Dispute</td>\n",
       "    </tr>\n",
       "    <tr>\n",
       "      <th>7</th>\n",
       "      <td>Closed with explanation</td>\n",
       "      <td>I have a active XXXX XXXX credit card in good ...</td>\n",
       "      <td>Company has responded to the consumer and the ...</td>\n",
       "      <td>Dispute</td>\n",
       "    </tr>\n",
       "  </tbody>\n",
       "</table>\n",
       "</div>"
      ],
      "text/plain": [
       "              company_response  \\\n",
       "1      Closed with explanation   \n",
       "3  Closed with monetary relief   \n",
       "5      Closed with explanation   \n",
       "6      Closed with explanation   \n",
       "7      Closed with explanation   \n",
       "\n",
       "                             complaint_what_happened  \\\n",
       "1  I contacted Ally on Friday XX/XX/XXXX after fa...   \n",
       "3  In XXXX I retained Freedom Debt Relief to help...   \n",
       "5  Hello This complaint is against the three cred...   \n",
       "6  I am a victim of Identity Theft & currently ha...   \n",
       "7  I have a active XXXX XXXX credit card in good ...   \n",
       "\n",
       "                             company_public_response  actions  \n",
       "1  Company has responded to the consumer and the ...  Dispute  \n",
       "3                                                         NaN  \n",
       "5  Company has responded to the consumer and the ...  Dispute  \n",
       "6  Company has responded to the consumer and the ...  Dispute  \n",
       "7  Company has responded to the consumer and the ...  Dispute  "
      ]
     },
     "metadata": {},
     "execution_count": 15
    }
   ],
   "metadata": {}
  },
  {
   "cell_type": "code",
   "execution_count": 16,
   "source": [
    "df.dropna(subset=['actions'], inplace=True)\n",
    "df.drop_duplicates(subset=None, keep='first', inplace=False, ignore_index=False)"
   ],
   "outputs": [
    {
     "output_type": "execute_result",
     "data": {
      "text/html": [
       "<div>\n",
       "<style scoped>\n",
       "    .dataframe tbody tr th:only-of-type {\n",
       "        vertical-align: middle;\n",
       "    }\n",
       "\n",
       "    .dataframe tbody tr th {\n",
       "        vertical-align: top;\n",
       "    }\n",
       "\n",
       "    .dataframe thead th {\n",
       "        text-align: right;\n",
       "    }\n",
       "</style>\n",
       "<table border=\"1\" class=\"dataframe\">\n",
       "  <thead>\n",
       "    <tr style=\"text-align: right;\">\n",
       "      <th></th>\n",
       "      <th>company_response</th>\n",
       "      <th>complaint_what_happened</th>\n",
       "      <th>company_public_response</th>\n",
       "      <th>actions</th>\n",
       "    </tr>\n",
       "  </thead>\n",
       "  <tbody>\n",
       "    <tr>\n",
       "      <th>1</th>\n",
       "      <td>Closed with explanation</td>\n",
       "      <td>I contacted Ally on Friday XX/XX/XXXX after fa...</td>\n",
       "      <td>Company has responded to the consumer and the ...</td>\n",
       "      <td>Dispute</td>\n",
       "    </tr>\n",
       "    <tr>\n",
       "      <th>5</th>\n",
       "      <td>Closed with explanation</td>\n",
       "      <td>Hello This complaint is against the three cred...</td>\n",
       "      <td>Company has responded to the consumer and the ...</td>\n",
       "      <td>Dispute</td>\n",
       "    </tr>\n",
       "    <tr>\n",
       "      <th>6</th>\n",
       "      <td>Closed with explanation</td>\n",
       "      <td>I am a victim of Identity Theft &amp; currently ha...</td>\n",
       "      <td>Company has responded to the consumer and the ...</td>\n",
       "      <td>Dispute</td>\n",
       "    </tr>\n",
       "    <tr>\n",
       "      <th>7</th>\n",
       "      <td>Closed with explanation</td>\n",
       "      <td>I have a active XXXX XXXX credit card in good ...</td>\n",
       "      <td>Company has responded to the consumer and the ...</td>\n",
       "      <td>Dispute</td>\n",
       "    </tr>\n",
       "    <tr>\n",
       "      <th>9</th>\n",
       "      <td>Closed with non-monetary relief</td>\n",
       "      <td>Two accounts are still on my credit history af...</td>\n",
       "      <td>Company has responded to the consumer and the ...</td>\n",
       "      <td>Dispute</td>\n",
       "    </tr>\n",
       "    <tr>\n",
       "      <th>...</th>\n",
       "      <td>...</td>\n",
       "      <td>...</td>\n",
       "      <td>...</td>\n",
       "      <td>...</td>\n",
       "    </tr>\n",
       "    <tr>\n",
       "      <th>2275556</th>\n",
       "      <td>Closed with explanation</td>\n",
       "      <td>I have received calls and notices in regards t...</td>\n",
       "      <td>Company believes it acted appropriately as aut...</td>\n",
       "      <td>Dispute</td>\n",
       "    </tr>\n",
       "    <tr>\n",
       "      <th>2275560</th>\n",
       "      <td>Closed with non-monetary relief</td>\n",
       "      <td>Near the end of XXXX 2016 I opened a Citigold ...</td>\n",
       "      <td>Company has responded to the consumer and the ...</td>\n",
       "      <td>Dispute</td>\n",
       "    </tr>\n",
       "    <tr>\n",
       "      <th>2275568</th>\n",
       "      <td>Closed with explanation</td>\n",
       "      <td>On XX/XX/XXXX I purchased a XXXX XXXX XXXX XXX...</td>\n",
       "      <td>Company has responded to the consumer and the ...</td>\n",
       "      <td>Dispute</td>\n",
       "    </tr>\n",
       "    <tr>\n",
       "      <th>2275572</th>\n",
       "      <td>Closed with non-monetary relief</td>\n",
       "      <td>cfbp i would Like to file a complaint on Exper...</td>\n",
       "      <td>Company has responded to the consumer and the ...</td>\n",
       "      <td>Dispute</td>\n",
       "    </tr>\n",
       "    <tr>\n",
       "      <th>2275573</th>\n",
       "      <td>Closed with explanation</td>\n",
       "      <td>My husband and I are in the middle of an FHA S...</td>\n",
       "      <td>Company has responded to the consumer and the ...</td>\n",
       "      <td>Dispute</td>\n",
       "    </tr>\n",
       "  </tbody>\n",
       "</table>\n",
       "<p>357654 rows × 4 columns</p>\n",
       "</div>"
      ],
      "text/plain": [
       "                        company_response  \\\n",
       "1                Closed with explanation   \n",
       "5                Closed with explanation   \n",
       "6                Closed with explanation   \n",
       "7                Closed with explanation   \n",
       "9        Closed with non-monetary relief   \n",
       "...                                  ...   \n",
       "2275556          Closed with explanation   \n",
       "2275560  Closed with non-monetary relief   \n",
       "2275568          Closed with explanation   \n",
       "2275572  Closed with non-monetary relief   \n",
       "2275573          Closed with explanation   \n",
       "\n",
       "                                   complaint_what_happened  \\\n",
       "1        I contacted Ally on Friday XX/XX/XXXX after fa...   \n",
       "5        Hello This complaint is against the three cred...   \n",
       "6        I am a victim of Identity Theft & currently ha...   \n",
       "7        I have a active XXXX XXXX credit card in good ...   \n",
       "9        Two accounts are still on my credit history af...   \n",
       "...                                                    ...   \n",
       "2275556  I have received calls and notices in regards t...   \n",
       "2275560  Near the end of XXXX 2016 I opened a Citigold ...   \n",
       "2275568  On XX/XX/XXXX I purchased a XXXX XXXX XXXX XXX...   \n",
       "2275572  cfbp i would Like to file a complaint on Exper...   \n",
       "2275573  My husband and I are in the middle of an FHA S...   \n",
       "\n",
       "                                   company_public_response  actions  \n",
       "1        Company has responded to the consumer and the ...  Dispute  \n",
       "5        Company has responded to the consumer and the ...  Dispute  \n",
       "6        Company has responded to the consumer and the ...  Dispute  \n",
       "7        Company has responded to the consumer and the ...  Dispute  \n",
       "9        Company has responded to the consumer and the ...  Dispute  \n",
       "...                                                    ...      ...  \n",
       "2275556  Company believes it acted appropriately as aut...  Dispute  \n",
       "2275560  Company has responded to the consumer and the ...  Dispute  \n",
       "2275568  Company has responded to the consumer and the ...  Dispute  \n",
       "2275572  Company has responded to the consumer and the ...  Dispute  \n",
       "2275573  Company has responded to the consumer and the ...  Dispute  \n",
       "\n",
       "[357654 rows x 4 columns]"
      ]
     },
     "metadata": {},
     "execution_count": 16
    }
   ],
   "metadata": {}
  },
  {
   "cell_type": "code",
   "execution_count": 17,
   "source": [
    "df.shape"
   ],
   "outputs": [
    {
     "output_type": "execute_result",
     "data": {
      "text/plain": [
       "(385223, 4)"
      ]
     },
     "metadata": {},
     "execution_count": 17
    }
   ],
   "metadata": {}
  },
  {
   "cell_type": "code",
   "execution_count": 18,
   "source": [
    "df['company_public_response'].isnull().sum()"
   ],
   "outputs": [
    {
     "output_type": "execute_result",
     "data": {
      "text/plain": [
       "0"
      ]
     },
     "metadata": {},
     "execution_count": 18
    }
   ],
   "metadata": {}
  },
  {
   "cell_type": "code",
   "execution_count": 19,
   "source": [
    "plt.figure(figsize=(15, 10))\n",
    "sns.histplot(x='company_public_response', data=df)\n",
    "plt.xticks(rotation=90)\n",
    "plt.title('Distribution of company responses')\n",
    "plt.show()"
   ],
   "outputs": [
    {
     "output_type": "display_data",
     "data": {
      "image/png": "[encoded data removed]",
      "text/plain": [
       "<Figure size 1080x720 with 1 Axes>"
      ]
     },
     "metadata": {
      "needs_background": "light"
     }
    }
   ],
   "metadata": {}
  },
  {
   "cell_type": "code",
   "execution_count": 20,
   "source": [
    "df.rename(columns={'complaint_what_happened':'complaint'}, inplace=True)\n",
    "df.head()"
   ],
   "outputs": [
    {
     "output_type": "execute_result",
     "data": {
      "text/html": [
       "<div>\n",
       "<style scoped>\n",
       "    .dataframe tbody tr th:only-of-type {\n",
       "        vertical-align: middle;\n",
       "    }\n",
       "\n",
       "    .dataframe tbody tr th {\n",
       "        vertical-align: top;\n",
       "    }\n",
       "\n",
       "    .dataframe thead th {\n",
       "        text-align: right;\n",
       "    }\n",
       "</style>\n",
       "<table border=\"1\" class=\"dataframe\">\n",
       "  <thead>\n",
       "    <tr style=\"text-align: right;\">\n",
       "      <th></th>\n",
       "      <th>company_response</th>\n",
       "      <th>complaint</th>\n",
       "      <th>company_public_response</th>\n",
       "      <th>actions</th>\n",
       "    </tr>\n",
       "  </thead>\n",
       "  <tbody>\n",
       "    <tr>\n",
       "      <th>1</th>\n",
       "      <td>Closed with explanation</td>\n",
       "      <td>I contacted Ally on Friday XX/XX/XXXX after fa...</td>\n",
       "      <td>Company has responded to the consumer and the ...</td>\n",
       "      <td>Dispute</td>\n",
       "    </tr>\n",
       "    <tr>\n",
       "      <th>5</th>\n",
       "      <td>Closed with explanation</td>\n",
       "      <td>Hello This complaint is against the three cred...</td>\n",
       "      <td>Company has responded to the consumer and the ...</td>\n",
       "      <td>Dispute</td>\n",
       "    </tr>\n",
       "    <tr>\n",
       "      <th>6</th>\n",
       "      <td>Closed with explanation</td>\n",
       "      <td>I am a victim of Identity Theft &amp; currently ha...</td>\n",
       "      <td>Company has responded to the consumer and the ...</td>\n",
       "      <td>Dispute</td>\n",
       "    </tr>\n",
       "    <tr>\n",
       "      <th>7</th>\n",
       "      <td>Closed with explanation</td>\n",
       "      <td>I have a active XXXX XXXX credit card in good ...</td>\n",
       "      <td>Company has responded to the consumer and the ...</td>\n",
       "      <td>Dispute</td>\n",
       "    </tr>\n",
       "    <tr>\n",
       "      <th>9</th>\n",
       "      <td>Closed with non-monetary relief</td>\n",
       "      <td>Two accounts are still on my credit history af...</td>\n",
       "      <td>Company has responded to the consumer and the ...</td>\n",
       "      <td>Dispute</td>\n",
       "    </tr>\n",
       "  </tbody>\n",
       "</table>\n",
       "</div>"
      ],
      "text/plain": [
       "                  company_response  \\\n",
       "1          Closed with explanation   \n",
       "5          Closed with explanation   \n",
       "6          Closed with explanation   \n",
       "7          Closed with explanation   \n",
       "9  Closed with non-monetary relief   \n",
       "\n",
       "                                           complaint  \\\n",
       "1  I contacted Ally on Friday XX/XX/XXXX after fa...   \n",
       "5  Hello This complaint is against the three cred...   \n",
       "6  I am a victim of Identity Theft & currently ha...   \n",
       "7  I have a active XXXX XXXX credit card in good ...   \n",
       "9  Two accounts are still on my credit history af...   \n",
       "\n",
       "                             company_public_response  actions  \n",
       "1  Company has responded to the consumer and the ...  Dispute  \n",
       "5  Company has responded to the consumer and the ...  Dispute  \n",
       "6  Company has responded to the consumer and the ...  Dispute  \n",
       "7  Company has responded to the consumer and the ...  Dispute  \n",
       "9  Company has responded to the consumer and the ...  Dispute  "
      ]
     },
     "metadata": {},
     "execution_count": 20
    }
   ],
   "metadata": {}
  },
  {
   "cell_type": "code",
   "execution_count": 38,
   "source": [
    "import nltk\n",
    "import time\n",
    "import sys\n",
    "\n",
    "nltk.download('wordnet')\n",
    "\n",
    "def cleanupText(row):\n",
    "    import re\n",
    "    import re\n",
    "    #from wordcloud import WordCloud, STOPWORDS\n",
    "    from nltk.tokenize import word_tokenize\n",
    "    tweet = row\n",
    "    #Lower case\n",
    "    tweet.lower()\n",
    "    #Removes unicode strings like \"\\u002c\" and \"x96\"\n",
    "    tweet = re.sub(r'(\\\\u[0-9A-Fa-f]+)',r\"\", tweet)\n",
    "    tweet = re.sub(r'[^\\x00-\\x7f]',r\"\",tweet)\n",
    "    #convert any url to URL\n",
    "    tweet = re.sub('((www\\.[^\\s]+)|(https?://[^\\s]+))','URL',tweet)\n",
    "    #Convert any @Username to \"AT_USER\"\n",
    "    tweet = re.sub('@[^\\s]+','AT_USER',tweet)\n",
    "    #Remove additional white spaces\n",
    "    tweet = re.sub('[\\s]+', ' ', tweet)\n",
    "    tweet = re.sub('[\\n]+', ' ', tweet)\n",
    "    #Remove not alphanumeric symbols white spaces\n",
    "    tweet = re.sub(r'[^\\w]', ' ', tweet)\n",
    "    #Removes hastag in front of a word \"\"\"\n",
    "    tweet = re.sub(r'#([^\\s]+)', r'\\1', tweet)\n",
    "    #Replace #word with word\n",
    "    tweet = re.sub(r'#([^\\s]+)', r'\\1', tweet)\n",
    "    #Remove :( or :)\n",
    "    tweet = tweet.replace(':)',\"\")\n",
    "    tweet = tweet.replace(':(',\"\")\n",
    "    #remove numbers\n",
    "    tweet = \"\".join([i for i in tweet if not i.isdigit()])\n",
    "    #remove multiple exclamation\n",
    "    tweet = re.sub(r\"(\\!)\\1+\", ' ', tweet)\n",
    "    #remove multiple question marks\n",
    "    tweet = re.sub(r\"(\\?)\\1+\", ' ', tweet)\n",
    "    #remove multistop\n",
    "    tweet = re.sub(r\"(\\.)\\1+\", ' ', tweet)\n",
    "    #lemma\n",
    "    from textblob import Word\n",
    "    tweet =\" \".join([Word(word).lemmatize() for word in tweet.split()])\n",
    "    #stemmer\n",
    "    #st = PorterStemmer()\n",
    "    #tweet=\" \".join([st.stem(word) for word in tweet.split()])\n",
    "    #Removes emoticons from text\n",
    "    tweet = re.sub(':\\)|;\\)|:-\\)|\\(-:|:-D|=D|:P|xD|X-p|\\^\\^|:-*|\\^\\.\\^|\\^\\-\\^|\\^\\_\\^|\\,-\\)|\\)-:|:\\'\\(|:\\(|:-\\(|:\\S|T\\.T|\\.\\_\\.|:<|:-\\S|:-<|\\*\\-\\*|:O|=O|=\\-O|O\\.o|XO|O\\_O|:-\\@|=/|:/|X\\-\\(|>\\.<|>=\\(|D:', \"\", tweet)\n",
    "    #trim\n",
    "    tweet = tweet.strip('\\'\"')\n",
    "    row = tweet\n",
    "    return row\n",
    "\n",
    "start_time = time.time()\n",
    "print('cleanup started', start_time, 's')\n",
    "df['complaint'] = df['complaint'].apply(lambda x: cleanupText(x))\n",
    "print('cleanup ended', time.time() - start_time, 's')\n"
   ],
   "outputs": [
    {
     "output_type": "stream",
     "name": "stderr",
     "text": [
      "[nltk_data] Downloading package wordnet to\n",
      "[nltk_data]     /Users/nakshathru/nltk_data...\n",
      "[nltk_data]   Package wordnet is already up-to-date!\n"
     ]
    },
    {
     "output_type": "stream",
     "name": "stdout",
     "text": [
      "cleanup started 1632833319.7521422 s\n",
      "cleanup ended 2.7640798091888428 s\n"
     ]
    }
   ],
   "metadata": {}
  },
  {
   "cell_type": "code",
   "execution_count": 22,
   "source": [
    "# X=enc.fit_transform(selected_df[['issue','sub_issue','consumer_disputed','complaint_what_happened','product']]).toarray()     \n",
    "# y=enc.fit_transform(selected_df[['company_response']]).toarray()\n",
    "# X_train, X_test, y_train, y_test = train_test_split(X, y, test_size=0.3) # 70% training and 30% test\n",
    "\n",
    "\n",
    "X_train, X_test, y_train, y_test = train_test_split(df['complaint'], df['actions'],random_state=0,test_size=0.3)"
   ],
   "outputs": [],
   "metadata": {}
  },
  {
   "cell_type": "code",
   "execution_count": 23,
   "source": [
    "le = preprocessing.LabelEncoder()\n",
    "y_train = le.fit_transform(y_train)\n",
    "y_test = le.fit_transform(y_test)"
   ],
   "outputs": [],
   "metadata": {}
  },
  {
   "cell_type": "code",
   "execution_count": 24,
   "source": [
    "tfidf = TfidfVectorizer()\n",
    "tfidf.fit(df['complaint'])\n",
    "X_train_t = tfidf.transform(X_train)\n",
    "X_test_t = tfidf.transform(X_test)"
   ],
   "outputs": [],
   "metadata": {}
  },
  {
   "cell_type": "code",
   "execution_count": 25,
   "source": [
    "y_train"
   ],
   "outputs": [
    {
     "output_type": "execute_result",
     "data": {
      "text/plain": [
       "array([1, 1, 1, ..., 1, 1, 1])"
      ]
     },
     "metadata": {},
     "execution_count": 25
    }
   ],
   "metadata": {}
  },
  {
   "cell_type": "markdown",
   "source": [
    "Creating classifier"
   ],
   "metadata": {
    "id": "FWjOQmu-b0j7"
   }
  },
  {
   "cell_type": "code",
   "execution_count": 26,
   "source": [
    "clf = RandomForestClassifier(n_estimators = 100)  "
   ],
   "outputs": [],
   "metadata": {
    "id": "bL62eImcb2Ri"
   }
  },
  {
   "cell_type": "markdown",
   "source": [
    "training"
   ],
   "metadata": {
    "id": "qF8711nsb6nx"
   }
  },
  {
   "cell_type": "code",
   "execution_count": 27,
   "source": [
    "clf.fit(X_train_t, y_train)"
   ],
   "outputs": [
    {
     "output_type": "execute_result",
     "data": {
      "text/plain": [
       "RandomForestClassifier()"
      ]
     },
     "metadata": {},
     "execution_count": 27
    }
   ],
   "metadata": {
    "colab": {
     "base_uri": "https://localhost:8080/"
    },
    "id": "pzfOYJ8wb8NV",
    "outputId": "903e29d7-e156-45b2-8668-4be0a5cb6aa6"
   }
  },
  {
   "cell_type": "markdown",
   "source": [
    "predicting accuracy"
   ],
   "metadata": {
    "id": "LRossj7WcC7H"
   }
  },
  {
   "cell_type": "code",
   "execution_count": 28,
   "source": [
    "y_pred = clf.predict(X_test_t)\n",
    "print(\"ACCURACY OF THE MODEL: \", metrics.accuracy_score(y_test, y_pred))"
   ],
   "outputs": [
    {
     "output_type": "stream",
     "name": "stdout",
     "text": [
      "ACCURACY OF THE MODEL:  0.9758064516129032\n"
     ]
    }
   ],
   "metadata": {
    "colab": {
     "base_uri": "https://localhost:8080/"
    },
    "id": "0LQR3xDYcFbj",
    "outputId": "55778b90-f031-41c5-d274-d5d1b7bddb55"
   }
  },
  {
   "cell_type": "markdown",
   "source": [
    "visualization"
   ],
   "metadata": {}
  },
  {
   "cell_type": "code",
   "execution_count": 29,
   "source": [
    "print(metrics.classification_report(y_test, clf.predict(X_test_t), target_names=df['actions'].unique()))"
   ],
   "outputs": [
    {
     "output_type": "stream",
     "name": "stdout",
     "text": [
      "                  precision    recall  f1-score   support\n",
      "\n",
      "         Dispute       0.00      0.00      0.00        13\n",
      "          Agrees       0.98      1.00      0.99       605\n",
      "Less informative       0.00      0.00      0.00         2\n",
      "\n",
      "        accuracy                           0.98       620\n",
      "       macro avg       0.33      0.33      0.33       620\n",
      "    weighted avg       0.95      0.98      0.96       620\n",
      "\n"
     ]
    },
    {
     "output_type": "stream",
     "name": "stderr",
     "text": [
      "/Users/nakshathru/Documents/ML-Algos/venv/lib/python3.9/site-packages/sklearn/metrics/_classification.py:1308: UndefinedMetricWarning: Precision and F-score are ill-defined and being set to 0.0 in labels with no predicted samples. Use `zero_division` parameter to control this behavior.\n",
      "  _warn_prf(average, modifier, msg_start, len(result))\n",
      "/Users/nakshathru/Documents/ML-Algos/venv/lib/python3.9/site-packages/sklearn/metrics/_classification.py:1308: UndefinedMetricWarning: Precision and F-score are ill-defined and being set to 0.0 in labels with no predicted samples. Use `zero_division` parameter to control this behavior.\n",
      "  _warn_prf(average, modifier, msg_start, len(result))\n",
      "/Users/nakshathru/Documents/ML-Algos/venv/lib/python3.9/site-packages/sklearn/metrics/_classification.py:1308: UndefinedMetricWarning: Precision and F-score are ill-defined and being set to 0.0 in labels with no predicted samples. Use `zero_division` parameter to control this behavior.\n",
      "  _warn_prf(average, modifier, msg_start, len(result))\n"
     ]
    }
   ],
   "metadata": {}
  },
  {
   "cell_type": "code",
   "execution_count": 30,
   "source": [
    "matr = confusion_matrix(y_test, clf.predict(X_test_t))"
   ],
   "outputs": [],
   "metadata": {}
  },
  {
   "cell_type": "code",
   "execution_count": 31,
   "source": [
    "# Predicitng in real time\n",
    "sentence = [\"This company refuses to provide me verification andvalidation of debt\"+ \"per my right under the FDCPA.I do not believe this debt is mine.\"]\n",
    "feature_sent = tfidf.transform(sentence)\n",
    "pred = clf.predict(feature_sent)\n",
    "print(pred)"
   ],
   "outputs": [
    {
     "output_type": "stream",
     "name": "stdout",
     "text": [
      "[1]\n"
     ]
    }
   ],
   "metadata": {}
  },
  {
   "cell_type": "code",
   "execution_count": 32,
   "source": [
    "print(sentence)\n",
    "print(\"This has been predicted as:\",pred[0])"
   ],
   "outputs": [
    {
     "output_type": "stream",
     "name": "stdout",
     "text": [
      "['This company refuses to provide me verification andvalidation of debtper my right under the FDCPA.I do not believe this debt is mine.']\n",
      "This has been predicted as: 1\n"
     ]
    }
   ],
   "metadata": {}
  }
 ],
 "metadata": {
  "colab": {
   "name": "random_forest.ipynb",
   "provenance": []
  },
  "interpreter": {
   "hash": "04f612ebe74b32c6ca01a917c30c9031551afed18a72f65e06344895bea19fc2"
  },
  "kernelspec": {
   "name": "python3",
   "display_name": "Python 3.9.7 64-bit ('venv': venv)"
  },
  "language_info": {
   "codemirror_mode": {
    "name": "ipython",
    "version": 3
   },
   "file_extension": ".py",
   "mimetype": "text/x-python",
   "name": "python",
   "nbconvert_exporter": "python",
   "pygments_lexer": "ipython3",
   "version": "3.9.7"
  }
 },
 "nbformat": 4,
 "nbformat_minor": 4
}